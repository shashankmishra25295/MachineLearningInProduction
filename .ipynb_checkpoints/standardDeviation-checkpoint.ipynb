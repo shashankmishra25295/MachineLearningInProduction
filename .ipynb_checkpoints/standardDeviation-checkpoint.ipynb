{
 "cells": [
  {
   "cell_type": "code",
   "execution_count": 4,
   "metadata": {},
   "outputs": [],
   "source": [
    "def calculateMean(numberArray):\n",
    "    sum=0\n",
    "    for i in numberArray:\n",
    "        sum=sum+i\n",
    "    return sum/len(numberArray)"
   ]
  },
  {
   "cell_type": "code",
   "execution_count": 14,
   "metadata": {},
   "outputs": [],
   "source": [
    "def standardDeviation(numberArray):\n",
    "    sum=0\n",
    "    mean=calculateMean(numberArray)\n",
    "    for i in numberArray:\n",
    "        sum= sum + ((i-mean)*(i-mean)/len(numberArray))\n",
    "    return sum**0.5"
   ]
  },
  {
   "cell_type": "code",
   "execution_count": 15,
   "metadata": {},
   "outputs": [
    {
     "data": {
      "text/plain": [
       "0.0"
      ]
     },
     "execution_count": 15,
     "metadata": {},
     "output_type": "execute_result"
    }
   ],
   "source": [
    "standardDeviation([1,1])"
   ]
  },
  {
   "cell_type": "code",
   "execution_count": null,
   "metadata": {},
   "outputs": [],
   "source": [
    "\"\"\"\n",
    "Points to follow while writing code\n",
    "1) Create functions for every small thing\n",
    "2) Readability\n",
    "3) Comments\n",
    "4) Variable Name\n",
    "5) Code Indentation\n",
    "6) Either follow \n",
    "\"\"\""
   ]
  }
 ],
 "metadata": {
  "kernelspec": {
   "display_name": "Python 3",
   "language": "python",
   "name": "python3"
  },
  "language_info": {
   "codemirror_mode": {
    "name": "ipython",
    "version": 3
   },
   "file_extension": ".py",
   "mimetype": "text/x-python",
   "name": "python",
   "nbconvert_exporter": "python",
   "pygments_lexer": "ipython3",
   "version": "3.7.0"
  }
 },
 "nbformat": 4,
 "nbformat_minor": 2
}
